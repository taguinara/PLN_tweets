{
  "nbformat": 4,
  "nbformat_minor": 0,
  "metadata": {
    "colab": {
      "name": "analysis_tweets_ Tainara Almeida.ipynb",
      "provenance": [],
      "mount_file_id": "1rJU_wdJjKawQjCiWJRUzMCFk8sTsZ_EI",
      "authorship_tag": "ABX9TyO2qLbvK1BzmBtd8oFFLvaV",
      "include_colab_link": true
    },
    "kernelspec": {
      "name": "python3",
      "display_name": "Python 3"
    },
    "language_info": {
      "name": "python"
    }
  },
  "cells": [
    {
      "cell_type": "markdown",
      "metadata": {
        "id": "view-in-github",
        "colab_type": "text"
      },
      "source": [
        "<a href=\"https://colab.research.google.com/github/taguinara/PLN_tweets/blob/main/analysis_tweets__Tainara%20Almeida.ipynb\" target=\"_parent\"><img src=\"https://colab.research.google.com/assets/colab-badge.svg\" alt=\"Open In Colab\"/></a>"
      ]
    },
    {
      "cell_type": "markdown",
      "metadata": {
        "id": "joCc2K5obevZ"
      },
      "source": [
        "---\n",
        "# **Análise de Dados - tweets sobre o covid-19.**\n",
        "---"
      ]
    },
    {
      "cell_type": "markdown",
      "metadata": {
        "id": "K3Douq-375As"
      },
      "source": [
        "**Sumário**\n",
        "\n",
        "1. Introdução\n",
        "2. Análise de sentimentos dos tweets sobre o covid\n",
        "3. NLTK\n",
        "4. Criação do modelo (detecção de emoção em frases com o algoritmo Naive Bayes)\n",
        "5. Conclusão\n",
        "6. Referência bibliográfica"
      ]
    },
    {
      "cell_type": "markdown",
      "metadata": {
        "id": "g65p4VKS27wf"
      },
      "source": [
        "# **1. Introdução**\n",
        "\n",
        "A linguagem natural se refere à maneira como nós, humanos, nos comunicamos uns com os outros, no cotidiano. O Processamento de Linguagem Natural (PNL), é uma subárea da inteligência artificial (IA), que lida com a linguagem escrita e falada. Você pode usar a PNL para construir soluções que extraiam significado semântico de texto ou fala, ou que formule respostas significativas em linguagem natural. É um termo coletivo que se refere a automático processamento computacional de linguagens humanas. PLN inclui os dois algoritmos que usam texto produzido por humanos como entrada e algoritmos que produzem aparência natural texto como saídas. Uma aplicação do PNL é a análise de sentimentos, na qual os scripts atribuem automaticamente um sentimento positivo, negativo ou neutro a uma ampla variedade de textos de entrada relacionados a uma organização, como tweets, artigos de notícias ou formulários de feedback do cliente.\n",
        "\n",
        "Em 2020, o mundo foi surpreendido com uma doença infecciosa chamada como coronavírus (COVID-19), causada pelo vírus SARS-CoV-2. Desta forma, vamos analizar tweets feitos sobre o tema."
      ]
    },
    {
      "cell_type": "markdown",
      "metadata": {
        "id": "YdnKny7YbHDo"
      },
      "source": [
        "# **2. Análise de sentimentos dos tweets sobre o covid**\n",
        "A análise de sentimento é uma técnica de descoberta de conhecimento por meio da mineração de dados, sua finalidade é revelar a opinião das pessoas sobre temas específicos. Essa é uma técnica apropriada para aplicação em fontes de dados não estruturados."
      ]
    },
    {
      "cell_type": "code",
      "metadata": {
        "id": "ER-DBIkHbLpY"
      },
      "source": [
        "from nltk import word_tokenize\n",
        "import csv\n",
        "import nltk\n",
        "import re\n",
        "import pandas as pd\n",
        "import numpy as np\n",
        "from sklearn.feature_extraction.text import CountVectorizer\n",
        "from sklearn.naive_bayes import MultinomialNB\n",
        "from sklearn import svm\n",
        "from sklearn import metrics\n",
        "from sklearn.model_selection import cross_val_predict"
      ],
      "execution_count": 179,
      "outputs": []
    },
    {
      "cell_type": "code",
      "metadata": {
        "id": "CMGc5zBpbMQf"
      },
      "source": [
        "tweets = pd.read_csv(\"/content/drive/MyDrive/Dados/tweets_limpos.csv\", sep=';')"
      ],
      "execution_count": 172,
      "outputs": []
    },
    {
      "cell_type": "code",
      "metadata": {
        "colab": {
          "base_uri": "https://localhost:8080/",
          "height": 355
        },
        "id": "oF7B6_C4bMsP",
        "outputId": "4fa83421-0a0f-4421-e426-55ca8c6e8f61"
      },
      "source": [
        "tweets.head(10)"
      ],
      "execution_count": 173,
      "outputs": [
        {
          "output_type": "execute_result",
          "data": {
            "text/html": [
              "<div>\n",
              "<style scoped>\n",
              "    .dataframe tbody tr th:only-of-type {\n",
              "        vertical-align: middle;\n",
              "    }\n",
              "\n",
              "    .dataframe tbody tr th {\n",
              "        vertical-align: top;\n",
              "    }\n",
              "\n",
              "    .dataframe thead th {\n",
              "        text-align: right;\n",
              "    }\n",
              "</style>\n",
              "<table border=\"1\" class=\"dataframe\">\n",
              "  <thead>\n",
              "    <tr style=\"text-align: right;\">\n",
              "      <th></th>\n",
              "      <th>creation date</th>\n",
              "      <th>text</th>\n",
              "      <th>classification</th>\n",
              "    </tr>\n",
              "  </thead>\n",
              "  <tbody>\n",
              "    <tr>\n",
              "      <th>0</th>\n",
              "      <td>16/03/2020</td>\n",
              "      <td>@MeNyrbie @Phil_Gahan @Chrisitv https://t.co/i...</td>\n",
              "      <td>Neutral</td>\n",
              "    </tr>\n",
              "    <tr>\n",
              "      <th>1</th>\n",
              "      <td>16/03/2020</td>\n",
              "      <td>advice Talk to your neighbours family to excha...</td>\n",
              "      <td>Positive</td>\n",
              "    </tr>\n",
              "    <tr>\n",
              "      <th>2</th>\n",
              "      <td>16/03/2020</td>\n",
              "      <td>Coronavirus Australia: Woolworths to give elde...</td>\n",
              "      <td>Positive</td>\n",
              "    </tr>\n",
              "    <tr>\n",
              "      <th>3</th>\n",
              "      <td>16/03/2020</td>\n",
              "      <td>As news of the regionÂ’s first confirmed COVID...</td>\n",
              "      <td>Positive</td>\n",
              "    </tr>\n",
              "    <tr>\n",
              "      <th>4</th>\n",
              "      <td>16/03/2020</td>\n",
              "      <td>Cashier at grocery store was sharing his insig...</td>\n",
              "      <td>Positive</td>\n",
              "    </tr>\n",
              "    <tr>\n",
              "      <th>5</th>\n",
              "      <td>16/03/2020</td>\n",
              "      <td>Was at the supermarket today. Didn't buy toile...</td>\n",
              "      <td>Neutral</td>\n",
              "    </tr>\n",
              "    <tr>\n",
              "      <th>6</th>\n",
              "      <td>16/03/2020</td>\n",
              "      <td>Due to COVID-19 our retail store and classroom...</td>\n",
              "      <td>Positive</td>\n",
              "    </tr>\n",
              "    <tr>\n",
              "      <th>7</th>\n",
              "      <td>16/03/2020</td>\n",
              "      <td>For corona prevention,we should stop to buy th...</td>\n",
              "      <td>Negative</td>\n",
              "    </tr>\n",
              "    <tr>\n",
              "      <th>8</th>\n",
              "      <td>16/03/2020</td>\n",
              "      <td>All month there hasn't been crowding in the su...</td>\n",
              "      <td>Neutral</td>\n",
              "    </tr>\n",
              "    <tr>\n",
              "      <th>9</th>\n",
              "      <td>16/03/2020</td>\n",
              "      <td>Due to the Covid-19 situation, we have increas...</td>\n",
              "      <td>Extremely Positive</td>\n",
              "    </tr>\n",
              "  </tbody>\n",
              "</table>\n",
              "</div>"
            ],
            "text/plain": [
              "  creation date  ...      classification\n",
              "0    16/03/2020  ...             Neutral\n",
              "1    16/03/2020  ...            Positive\n",
              "2    16/03/2020  ...            Positive\n",
              "3    16/03/2020  ...            Positive\n",
              "4    16/03/2020  ...            Positive\n",
              "5    16/03/2020  ...             Neutral\n",
              "6    16/03/2020  ...            Positive\n",
              "7    16/03/2020  ...            Negative\n",
              "8    16/03/2020  ...             Neutral\n",
              "9    16/03/2020  ...  Extremely Positive\n",
              "\n",
              "[10 rows x 3 columns]"
            ]
          },
          "metadata": {},
          "execution_count": 173
        }
      ]
    },
    {
      "cell_type": "code",
      "metadata": {
        "colab": {
          "base_uri": "https://localhost:8080/",
          "height": 0
        },
        "id": "XoZaOqfAbXPD",
        "outputId": "fe870d8d-6513-4906-d3ed-9a94a0968081"
      },
      "source": [
        "tweets.info()"
      ],
      "execution_count": 132,
      "outputs": [
        {
          "output_type": "stream",
          "name": "stdout",
          "text": [
            "<class 'pandas.core.frame.DataFrame'>\n",
            "RangeIndex: 562 entries, 0 to 561\n",
            "Data columns (total 3 columns):\n",
            " #   Column          Non-Null Count  Dtype \n",
            "---  ------          --------------  ----- \n",
            " 0   creation date   562 non-null    object\n",
            " 1   text            562 non-null    object\n",
            " 2   classification  562 non-null    object\n",
            "dtypes: object(3)\n",
            "memory usage: 13.3+ KB\n"
          ]
        }
      ]
    },
    {
      "cell_type": "markdown",
      "metadata": {
        "id": "67haFJcgbdOq"
      },
      "source": [
        "**Os tweets analisados possuem categorização de sentimentos. Sendo eles: Positive, Negative, Neutral, Extremely Positive e Extremely Negative.\n",
        "Abaixo segue a quantidade de linhas de cada categoria, tendo em vista que ela se refere a amostra de 562 tweets.**"
      ]
    },
    {
      "cell_type": "code",
      "metadata": {
        "colab": {
          "base_uri": "https://localhost:8080/",
          "height": 0
        },
        "id": "u7NvfXvPbaXp",
        "outputId": "687240c1-ea7d-4f47-9404-5dc12df92686"
      },
      "source": [
        "tweets.classification.value_counts()"
      ],
      "execution_count": 48,
      "outputs": [
        {
          "output_type": "execute_result",
          "data": {
            "text/plain": [
              "Positive              165\n",
              "Negative              154\n",
              "Neutral                93\n",
              "Extremely Positive     80\n",
              "Extremely Negative     70\n",
              "Name: classification, dtype: int64"
            ]
          },
          "metadata": {},
          "execution_count": 48
        }
      ]
    },
    {
      "cell_type": "markdown",
      "metadata": {
        "id": "9eAW_RJHbs20"
      },
      "source": [
        "**Vimos que o resultado foi de maioria para os tweets categorizados como positivos (positive).**"
      ]
    },
    {
      "cell_type": "code",
      "metadata": {
        "colab": {
          "base_uri": "https://localhost:8080/",
          "height": 372
        },
        "id": "8yJvhhJubhv6",
        "outputId": "722d462e-39ab-42a5-e08b-899c1d52ac79"
      },
      "source": [
        "%matplotlib inline\n",
        "tweets.classification.value_counts().plot(kind=\"bar\")"
      ],
      "execution_count": 49,
      "outputs": [
        {
          "output_type": "execute_result",
          "data": {
            "text/plain": [
              "<matplotlib.axes._subplots.AxesSubplot at 0x7f4da6d9d090>"
            ]
          },
          "metadata": {},
          "execution_count": 49
        },
        {
          "output_type": "display_data",
          "data": {
            "image/png": "[encoded data removed]",
            "text/plain": [
              "<Figure size 432x288 with 1 Axes>"
            ]
          },
          "metadata": {
            "needs_background": "light"
          }
        }
      ]
    },
    {
      "cell_type": "code",
      "metadata": {
        "colab": {
          "base_uri": "https://localhost:8080/",
          "height": 0
        },
        "id": "tq1N4YBZboTi",
        "outputId": "1248f4d5-548d-4d6c-b672-77e7bc9bfec6"
      },
      "source": [
        "tweets.count()"
      ],
      "execution_count": 50,
      "outputs": [
        {
          "output_type": "execute_result",
          "data": {
            "text/plain": [
              "creation date     562\n",
              "text              562\n",
              "classification    562\n",
              "dtype: int64"
            ]
          },
          "metadata": {},
          "execution_count": 50
        }
      ]
    },
    {
      "cell_type": "code",
      "metadata": {
        "id": "6n6fqR_4MYNW"
      },
      "source": [
        "# Remoção de linhas duplicadas\n",
        "tweets.drop_duplicates(('text'), inplace=True)"
      ],
      "execution_count": 51,
      "outputs": []
    },
    {
      "cell_type": "code",
      "metadata": {
        "colab": {
          "base_uri": "https://localhost:8080/",
          "height": 0
        },
        "id": "ij7lDVG9MdUG",
        "outputId": "1af87590-eb56-4322-c308-fa484c0112e6"
      },
      "source": [
        "tweets.text.count()"
      ],
      "execution_count": 52,
      "outputs": [
        {
          "output_type": "execute_result",
          "data": {
            "text/plain": [
              "562"
            ]
          },
          "metadata": {},
          "execution_count": 52
        }
      ]
    },
    {
      "cell_type": "markdown",
      "metadata": {
        "id": "I6Oy_RNxMrqD"
      },
      "source": [
        "**Separando tweets e suas classes**"
      ]
    },
    {
      "cell_type": "code",
      "metadata": {
        "id": "3xZwSdiUMp6c"
      },
      "source": [
        "textos = tweets['text']\n",
        "classes = tweets['classification']"
      ],
      "execution_count": 94,
      "outputs": []
    },
    {
      "cell_type": "markdown",
      "metadata": {
        "id": "v2psp3qnfxVY"
      },
      "source": [
        "**Vocabulário**"
      ]
    },
    {
      "cell_type": "code",
      "metadata": {
        "colab": {
          "base_uri": "https://localhost:8080/",
          "height": 0
        },
        "id": "vvYcEFCVf0BD",
        "outputId": "92060942-db4f-414e-bbec-27f82a449d63"
      },
      "source": [
        "# Contagem de palavras da amostra\n",
        "len(tweets)"
      ],
      "execution_count": 162,
      "outputs": [
        {
          "output_type": "execute_result",
          "data": {
            "text/plain": [
              "562"
            ]
          },
          "metadata": {},
          "execution_count": 162
        }
      ]
    },
    {
      "cell_type": "markdown",
      "metadata": {
        "id": "4eh8hZo2hxZG"
      },
      "source": [
        "# **3. NLTK**\n",
        "\n",
        "NLTK significa Natural Language Toolkit. É uma biblioteca que possui ferramentas úteis para a utilização dos princípios de PLN. Assim como funcionalidades para manipulação de strings. Interfaces padrões para realizar tarefas como\n",
        "etiquetar textos, frequência de palavras, lematização e stemmização de palavras, entre vários outros.\n",
        "Instalação da biblioteca. Mais informações (https://www.nltk.org/install.html)\n"
      ]
    },
    {
      "cell_type": "code",
      "metadata": {
        "colab": {
          "base_uri": "https://localhost:8080/",
          "height": 0
        },
        "id": "Xpdxua4cNO9g",
        "outputId": "e034ed3c-c4fe-4b2e-f4bd-c380be3742de"
      },
      "source": [
        "import nltk\n",
        "nltk.download('stopwords')\n",
        "nltk.download('rslp')\n",
        "nltk.download('punkt')\n",
        "nltk.download('wordnet')"
      ],
      "execution_count": 54,
      "outputs": [
        {
          "output_type": "stream",
          "name": "stdout",
          "text": [
            "[nltk_data] Downloading package stopwords to /root/nltk_data...\n",
            "[nltk_data]   Package stopwords is already up-to-date!\n",
            "[nltk_data] Downloading package rslp to /root/nltk_data...\n",
            "[nltk_data]   Package rslp is already up-to-date!\n",
            "[nltk_data] Downloading package punkt to /root/nltk_data...\n",
            "[nltk_data]   Package punkt is already up-to-date!\n",
            "[nltk_data] Downloading package wordnet to /root/nltk_data...\n",
            "[nltk_data]   Package wordnet is already up-to-date!\n"
          ]
        },
        {
          "output_type": "execute_result",
          "data": {
            "text/plain": [
              "True"
            ]
          },
          "metadata": {},
          "execution_count": 54
        }
      ]
    },
    {
      "cell_type": "markdown",
      "metadata": {
        "id": "ulq2D6gGE9ZD"
      },
      "source": [
        "**Pré-processamento**\n",
        "\n",
        "Os dados coletados na análise foram disponibilizados pela Smarkio. Dessa forma vamos passar para a etapa de pré-processamento que consiste na organização e tratamento dos dados. \n",
        "A mineração de textos é uma extensão da mineração de dados, e pode ser definida como um processo de extração de informações novas e úteis a partir de documentos textuais escritos em linguagem natural. \n"
      ]
    },
    {
      "cell_type": "markdown",
      "metadata": {
        "id": "W42XtkAzS8w3"
      },
      "source": [
        "**Stopwords**\n",
        "\n",
        "Stopwords são palavras que podem ser\n",
        "consideradas irrelevantes para um certo\n",
        "resultado buscado. São artigos, preposições, conjunções, por exemplo."
      ]
    },
    {
      "cell_type": "code",
      "metadata": {
        "id": "e-YetwVINmMz"
      },
      "source": [
        "def RemoveStopWords(instancia):\n",
        "  stopwords = set(nltk.corpus.stopwords.words('english'))\n",
        "  palavras = [i for i in instancia.split() if not i in stopwords]\n",
        "  return (\"\".join(palavras))"
      ],
      "execution_count": 55,
      "outputs": []
    },
    {
      "cell_type": "markdown",
      "metadata": {
        "id": "RrpMxaHKhX3B"
      },
      "source": [
        "**Stemming**\n",
        "\n",
        "É o processo de reduzir palavras ao seu radical."
      ]
    },
    {
      "cell_type": "code",
      "metadata": {
        "id": "zIiC9jF0Np_H"
      },
      "source": [
        "def RemoveStopWords(instancia):\n",
        "  stemmer = nltk.stem.RSLPStemmer()\n",
        "  palavras = []\n",
        "  for w in instancia.split():\n",
        "    palavras.append(stemmer.stem(w))\n",
        "    return (\"\".join(palavras))"
      ],
      "execution_count": 56,
      "outputs": []
    },
    {
      "cell_type": "code",
      "metadata": {
        "id": "oQauWdLaNqOI"
      },
      "source": [
        "# Remove links, pontos, vírgulas, ponto e vírgula dos tweets\n",
        "def Limpeza_dados(instancia):\n",
        "  instancia = re.sub(r\"http\\S+\", \"\", instancia).lower().replace('.','').replace(';','').replace('-','')\n",
        "  return(instancia)"
      ],
      "execution_count": 57,
      "outputs": []
    },
    {
      "cell_type": "markdown",
      "metadata": {
        "id": "6nILa7GBhioV"
      },
      "source": [
        "**Lematização**\n",
        "\n",
        "Consiste em reduzir a palavra à\n",
        "sua forma canônica, levando em conta sua\n",
        "classe gramatical."
      ]
    },
    {
      "cell_type": "code",
      "metadata": {
        "id": "0KtttmfkNynm"
      },
      "source": [
        "from nltk import WordNetLemmatizer\n",
        "word_net_lemmatizer = WordNetLemmatizer()\n",
        "\n",
        "def Lemmatization(instancia):\n",
        "  palavras = []\n",
        "  for w in instancia.split():\n",
        "    palavras.append(wordnet_lemmatizer.lemmatize(w))\n",
        "  return (\"\".join(palavras))"
      ],
      "execution_count": 58,
      "outputs": []
    },
    {
      "cell_type": "code",
      "metadata": {
        "id": "aQpyn6ZQN1sV"
      },
      "source": [
        "def Preprocessing(instancia):\n",
        "  stemmer = nltk.stem.RSLPStemmer()\n",
        "  instancia = re.sub(r\"http\\S+\", \"\", instancia).lower().replace('.','').replace(';','').replace('-','')\n",
        "  stopwords = set(nltk.corpus.stopwords.words('english'))\n",
        "  palavras = [stemmer.stem(i) for i in instancia.split() if not i in stopwords]\n",
        "  return (\"\".join(palavras))"
      ],
      "execution_count": 59,
      "outputs": []
    },
    {
      "cell_type": "code",
      "metadata": {
        "id": "YJvZDUmcSLOf"
      },
      "source": [
        "# Aplica a função em todos os dados\n",
        "texto_limpo = [Preprocessing(i) for i in tweets]"
      ],
      "execution_count": 101,
      "outputs": []
    },
    {
      "cell_type": "code",
      "metadata": {
        "colab": {
          "base_uri": "https://localhost:8080/",
          "height": 0
        },
        "id": "4nbr6Dw1SSJ1",
        "outputId": "9b343def-8b32-4166-cc4d-de6c83ec669c"
      },
      "source": [
        "textos[:10]"
      ],
      "execution_count": 142,
      "outputs": [
        {
          "output_type": "execute_result",
          "data": {
            "text/plain": [
              "0    @MeNyrbie @Phil_Gahan @Chrisitv https://t.co/i...\n",
              "1    advice Talk to your neighbours family to excha...\n",
              "2    Coronavirus Australia: Woolworths to give elde...\n",
              "3    As news of the regionÂ’s first confirmed COVID...\n",
              "4    Cashier at grocery store was sharing his insig...\n",
              "5    Was at the supermarket today. Didn't buy toile...\n",
              "6    Due to COVID-19 our retail store and classroom...\n",
              "7    For corona prevention,we should stop to buy th...\n",
              "8    All month there hasn't been crowding in the su...\n",
              "9    Due to the Covid-19 situation, we have increas...\n",
              "Name: text, dtype: object"
            ]
          },
          "metadata": {},
          "execution_count": 142
        }
      ]
    },
    {
      "cell_type": "markdown",
      "metadata": {
        "id": "qhrtwUjShA_W"
      },
      "source": [
        "**N-GRAMAS**\n",
        "\n",
        "O N-grama é uma sequência contígua de n itens de uma determinada amostra de texto ou fala. "
      ]
    },
    {
      "cell_type": "code",
      "metadata": {
        "colab": {
          "base_uri": "https://localhost:8080/",
          "height": 0
        },
        "id": "70aifU3ihDET",
        "outputId": "af10cc36-eb6d-4da3-87a0-3a3e7be068d0"
      },
      "source": [
        "# Bigramas = Sequências de duas letras consecutivas ou dois números consecutivos.\n",
        "\n",
        "from nltk import bigrams\n",
        "list(bigrams(tokens))"
      ],
      "execution_count": 175,
      "outputs": [
        {
          "output_type": "execute_result",
          "data": {
            "text/plain": [
              "[('There', 's'),\n",
              " ('s', 'a'),\n",
              " ('a', 'digital'),\n",
              " ('digital', 'literacy'),\n",
              " ('literacy', 'movement'),\n",
              " ('movement', 'happening'),\n",
              " ('happening', 'right'),\n",
              " ('right', 'now'),\n",
              " ('now', 'amp'),\n",
              " ('amp', 'we'),\n",
              " ('we', 're'),\n",
              " ('re', 'all'),\n",
              " ('all', 'students'),\n",
              " ('students', 'Support'),\n",
              " ('Support', 'the'),\n",
              " ('the', 'vulnerable'),\n",
              " ('vulnerable', 'in'),\n",
              " ('in', 'using'),\n",
              " ('using', 'Pharmacy'),\n",
              " ('Pharmacy', '2u'),\n",
              " ('2u', 'online'),\n",
              " ('online', 'shopping'),\n",
              " ('shopping', 'video'),\n",
              " ('video', 'calls'),\n",
              " ('calls', 'iPlayer'),\n",
              " ('iPlayer', 'amp'),\n",
              " ('amp', 'other'),\n",
              " ('other', 'online'),\n",
              " ('online', 'tools'),\n",
              " ('tools', 'It'),\n",
              " ('It', 'WILL'),\n",
              " ('WILL', 'be'),\n",
              " ('be', 'a'),\n",
              " ('a', 'challenge'),\n",
              " ('challenge', 'to'),\n",
              " ('to', 'teach'),\n",
              " ('teach', 'but'),\n",
              " ('but', 'it'),\n",
              " ('it', 'might'),\n",
              " ('might', 'just'),\n",
              " ('just', 'save'),\n",
              " ('save', 'a'),\n",
              " ('a', 'few'),\n",
              " ('few', 'lives'),\n",
              " ('lives', '!'),\n",
              " ('!', ':'),\n",
              " (':', ')'),\n",
              " (')', ':'),\n",
              " (':', '-'),\n",
              " ('-', ')'),\n",
              " (')', ';'),\n",
              " (';', ')'),\n",
              " (')', '=D')]"
            ]
          },
          "metadata": {},
          "execution_count": 175
        }
      ]
    },
    {
      "cell_type": "code",
      "metadata": {
        "colab": {
          "base_uri": "https://localhost:8080/",
          "height": 0
        },
        "id": "jni-6kOGhHLs",
        "outputId": "6108cbb8-964c-4e4b-917f-12b5bddc9a57"
      },
      "source": [
        "from nltk import trigrams\n",
        "list(trigrams(tokens))"
      ],
      "execution_count": 176,
      "outputs": [
        {
          "output_type": "execute_result",
          "data": {
            "text/plain": [
              "[('There', 's', 'a'),\n",
              " ('s', 'a', 'digital'),\n",
              " ('a', 'digital', 'literacy'),\n",
              " ('digital', 'literacy', 'movement'),\n",
              " ('literacy', 'movement', 'happening'),\n",
              " ('movement', 'happening', 'right'),\n",
              " ('happening', 'right', 'now'),\n",
              " ('right', 'now', 'amp'),\n",
              " ('now', 'amp', 'we'),\n",
              " ('amp', 'we', 're'),\n",
              " ('we', 're', 'all'),\n",
              " ('re', 'all', 'students'),\n",
              " ('all', 'students', 'Support'),\n",
              " ('students', 'Support', 'the'),\n",
              " ('Support', 'the', 'vulnerable'),\n",
              " ('the', 'vulnerable', 'in'),\n",
              " ('vulnerable', 'in', 'using'),\n",
              " ('in', 'using', 'Pharmacy'),\n",
              " ('using', 'Pharmacy', '2u'),\n",
              " ('Pharmacy', '2u', 'online'),\n",
              " ('2u', 'online', 'shopping'),\n",
              " ('online', 'shopping', 'video'),\n",
              " ('shopping', 'video', 'calls'),\n",
              " ('video', 'calls', 'iPlayer'),\n",
              " ('calls', 'iPlayer', 'amp'),\n",
              " ('iPlayer', 'amp', 'other'),\n",
              " ('amp', 'other', 'online'),\n",
              " ('other', 'online', 'tools'),\n",
              " ('online', 'tools', 'It'),\n",
              " ('tools', 'It', 'WILL'),\n",
              " ('It', 'WILL', 'be'),\n",
              " ('WILL', 'be', 'a'),\n",
              " ('be', 'a', 'challenge'),\n",
              " ('a', 'challenge', 'to'),\n",
              " ('challenge', 'to', 'teach'),\n",
              " ('to', 'teach', 'but'),\n",
              " ('teach', 'but', 'it'),\n",
              " ('but', 'it', 'might'),\n",
              " ('it', 'might', 'just'),\n",
              " ('might', 'just', 'save'),\n",
              " ('just', 'save', 'a'),\n",
              " ('save', 'a', 'few'),\n",
              " ('a', 'few', 'lives'),\n",
              " ('few', 'lives', '!'),\n",
              " ('lives', '!', ':'),\n",
              " ('!', ':', ')'),\n",
              " (':', ')', ':'),\n",
              " (')', ':', '-'),\n",
              " (':', '-', ')'),\n",
              " ('-', ')', ';'),\n",
              " (')', ';', ')'),\n",
              " (';', ')', '=D')]"
            ]
          },
          "metadata": {},
          "execution_count": 176
        }
      ]
    },
    {
      "cell_type": "code",
      "metadata": {
        "colab": {
          "base_uri": "https://localhost:8080/",
          "height": 0
        },
        "id": "RHGu-BlXhHT-",
        "outputId": "7f91c055-37e0-4342-a84d-1f71691bc63d"
      },
      "source": [
        "from nltk import ngrams\n",
        "list(ngrams(tokens, 4))"
      ],
      "execution_count": 177,
      "outputs": [
        {
          "output_type": "execute_result",
          "data": {
            "text/plain": [
              "[('There', 's', 'a', 'digital'),\n",
              " ('s', 'a', 'digital', 'literacy'),\n",
              " ('a', 'digital', 'literacy', 'movement'),\n",
              " ('digital', 'literacy', 'movement', 'happening'),\n",
              " ('literacy', 'movement', 'happening', 'right'),\n",
              " ('movement', 'happening', 'right', 'now'),\n",
              " ('happening', 'right', 'now', 'amp'),\n",
              " ('right', 'now', 'amp', 'we'),\n",
              " ('now', 'amp', 'we', 're'),\n",
              " ('amp', 'we', 're', 'all'),\n",
              " ('we', 're', 'all', 'students'),\n",
              " ('re', 'all', 'students', 'Support'),\n",
              " ('all', 'students', 'Support', 'the'),\n",
              " ('students', 'Support', 'the', 'vulnerable'),\n",
              " ('Support', 'the', 'vulnerable', 'in'),\n",
              " ('the', 'vulnerable', 'in', 'using'),\n",
              " ('vulnerable', 'in', 'using', 'Pharmacy'),\n",
              " ('in', 'using', 'Pharmacy', '2u'),\n",
              " ('using', 'Pharmacy', '2u', 'online'),\n",
              " ('Pharmacy', '2u', 'online', 'shopping'),\n",
              " ('2u', 'online', 'shopping', 'video'),\n",
              " ('online', 'shopping', 'video', 'calls'),\n",
              " ('shopping', 'video', 'calls', 'iPlayer'),\n",
              " ('video', 'calls', 'iPlayer', 'amp'),\n",
              " ('calls', 'iPlayer', 'amp', 'other'),\n",
              " ('iPlayer', 'amp', 'other', 'online'),\n",
              " ('amp', 'other', 'online', 'tools'),\n",
              " ('other', 'online', 'tools', 'It'),\n",
              " ('online', 'tools', 'It', 'WILL'),\n",
              " ('tools', 'It', 'WILL', 'be'),\n",
              " ('It', 'WILL', 'be', 'a'),\n",
              " ('WILL', 'be', 'a', 'challenge'),\n",
              " ('be', 'a', 'challenge', 'to'),\n",
              " ('a', 'challenge', 'to', 'teach'),\n",
              " ('challenge', 'to', 'teach', 'but'),\n",
              " ('to', 'teach', 'but', 'it'),\n",
              " ('teach', 'but', 'it', 'might'),\n",
              " ('but', 'it', 'might', 'just'),\n",
              " ('it', 'might', 'just', 'save'),\n",
              " ('might', 'just', 'save', 'a'),\n",
              " ('just', 'save', 'a', 'few'),\n",
              " ('save', 'a', 'few', 'lives'),\n",
              " ('a', 'few', 'lives', '!'),\n",
              " ('few', 'lives', '!', ':'),\n",
              " ('lives', '!', ':', ')'),\n",
              " ('!', ':', ')', ':'),\n",
              " (':', ')', ':', '-'),\n",
              " (')', ':', '-', ')'),\n",
              " (':', '-', ')', ';'),\n",
              " ('-', ')', ';', ')'),\n",
              " (')', ';', ')', '=D')]"
            ]
          },
          "metadata": {},
          "execution_count": 177
        }
      ]
    },
    {
      "cell_type": "markdown",
      "metadata": {
        "id": "XPIwfuzItxDo"
      },
      "source": [
        "**Córpus dentro no NLTK**\n",
        "\n",
        "São uteis para os etiquetadores, entidades nomeadas,\n",
        "estruturas sintáticas e várias outras funcionalidades."
      ]
    },
    {
      "cell_type": "code",
      "metadata": {
        "colab": {
          "base_uri": "https://localhost:8080/",
          "height": 0
        },
        "id": "17VgWEJdQAwk",
        "outputId": "48df9988-d0ce-411d-eba6-98c7afc95fb2"
      },
      "source": [
        "import nltk\n",
        "nltk.download('mac_morpho')"
      ],
      "execution_count": 69,
      "outputs": [
        {
          "output_type": "stream",
          "name": "stdout",
          "text": [
            "[nltk_data] Downloading package mac_morpho to /root/nltk_data...\n",
            "[nltk_data]   Unzipping corpora/mac_morpho.zip.\n"
          ]
        },
        {
          "output_type": "execute_result",
          "data": {
            "text/plain": [
              "True"
            ]
          },
          "metadata": {},
          "execution_count": 69
        }
      ]
    },
    {
      "cell_type": "code",
      "metadata": {
        "colab": {
          "base_uri": "https://localhost:8080/",
          "height": 0
        },
        "id": "y5K-9oqlufgQ",
        "outputId": "57fa55ab-b8ce-40e3-ce5d-d73458663588"
      },
      "source": [
        "nltk.corpus.mac_morpho.tagged_sents()"
      ],
      "execution_count": 70,
      "outputs": [
        {
          "output_type": "execute_result",
          "data": {
            "text/plain": [
              "[[('Jersei', 'N'), ('atinge', 'V'), ('média', 'N'), ('de', 'PREP'), ('Cr$', 'CUR'), ('1,4', 'NUM'), ('milhão', 'N'), ('em', 'PREP|+'), ('a', 'ART'), ('venda', 'N'), ('de', 'PREP|+'), ('a', 'ART'), ('Pinhal', 'NPROP'), ('em', 'PREP'), ('São', 'NPROP'), ('Paulo', 'NPROP')], [('Programe', 'V'), ('sua', 'PROADJ'), ('viagem', 'N'), ('a', 'PREP|+'), ('a', 'ART'), ('Exposição', 'NPROP'), ('Nacional', 'NPROP'), ('do', 'NPROP'), ('Zebu', 'NPROP'), (',', ','), ('que', 'PRO-KS-REL'), ('começa', 'V'), ('dia', 'N'), ('25', 'N|AP')], ...]"
            ]
          },
          "metadata": {},
          "execution_count": 70
        }
      ]
    },
    {
      "cell_type": "code",
      "metadata": {
        "colab": {
          "base_uri": "https://localhost:8080/",
          "height": 0
        },
        "id": "ja5HFFC5ualY",
        "outputId": "13dbbefb-73bf-4fde-e4ad-ea65d76a2b85"
      },
      "source": [
        "nltk.corpus.mac_morpho.tagged_words()"
      ],
      "execution_count": 71,
      "outputs": [
        {
          "output_type": "execute_result",
          "data": {
            "text/plain": [
              "[('Jersei', 'N'), ('atinge', 'V'), ('média', 'N'), ...]"
            ]
          },
          "metadata": {},
          "execution_count": 71
        }
      ]
    },
    {
      "cell_type": "code",
      "metadata": {
        "colab": {
          "base_uri": "https://localhost:8080/",
          "height": 0
        },
        "id": "1D8DoVLyuFGC",
        "outputId": "b4baee93-7661-43dd-82f9-398f42f86a2d"
      },
      "source": [
        "nltk.corpus.mac_morpho.words()"
      ],
      "execution_count": 72,
      "outputs": [
        {
          "output_type": "execute_result",
          "data": {
            "text/plain": [
              "['Jersei', 'atinge', 'média', 'de', 'Cr$', '1,4', ...]"
            ]
          },
          "metadata": {},
          "execution_count": 72
        }
      ]
    },
    {
      "cell_type": "code",
      "metadata": {
        "colab": {
          "base_uri": "https://localhost:8080/",
          "height": 0
        },
        "id": "sbomzXfbuLox",
        "outputId": "9a6f7709-fee8-40c9-fa01-9965a867fca7"
      },
      "source": [
        "nltk.corpus.mac_morpho.sents()"
      ],
      "execution_count": 73,
      "outputs": [
        {
          "output_type": "execute_result",
          "data": {
            "text/plain": [
              "[['Jersei', 'atinge', 'média', 'de', 'Cr$', '1,4', 'milhão', 'em', 'a', 'venda', 'de', 'a', 'Pinhal', 'em', 'São', 'Paulo'], ['Programe', 'sua', 'viagem', 'a', 'a', 'Exposição', 'Nacional', 'do', 'Zebu', ',', 'que', 'começa', 'dia', '25'], ...]"
            ]
          },
          "metadata": {},
          "execution_count": 73
        }
      ]
    },
    {
      "cell_type": "markdown",
      "metadata": {
        "id": "C1COcF9Lo8p6"
      },
      "source": [
        "**Tokenização**\n",
        "\n",
        "Tokenizar = separar as palavras do texto. Os tokenizadores dividem as strings em listas de substrings."
      ]
    },
    {
      "cell_type": "code",
      "metadata": {
        "colab": {
          "base_uri": "https://localhost:8080/",
          "height": 0
        },
        "id": "zCToPCknoNFK",
        "outputId": "32cfe457-087c-4fc3-a206-63f027427049"
      },
      "source": [
        "texto = \"There s a digital literacy movement happening right now amp we re all students Support the vulnerable in using Pharmacy 2u online shopping video calls iPlayer amp other online tools It WILL be a challenge to teach but it might just save a few lives ! :) :-) ;) =D\"\n",
        "nltk.word_tokenize(texto)"
      ],
      "execution_count": 75,
      "outputs": [
        {
          "output_type": "execute_result",
          "data": {
            "text/plain": [
              "['There',\n",
              " 's',\n",
              " 'a',\n",
              " 'digital',\n",
              " 'literacy',\n",
              " 'movement',\n",
              " 'happening',\n",
              " 'right',\n",
              " 'now',\n",
              " 'amp',\n",
              " 'we',\n",
              " 're',\n",
              " 'all',\n",
              " 'students',\n",
              " 'Support',\n",
              " 'the',\n",
              " 'vulnerable',\n",
              " 'in',\n",
              " 'using',\n",
              " 'Pharmacy',\n",
              " '2u',\n",
              " 'online',\n",
              " 'shopping',\n",
              " 'video',\n",
              " 'calls',\n",
              " 'iPlayer',\n",
              " 'amp',\n",
              " 'other',\n",
              " 'online',\n",
              " 'tools',\n",
              " 'It',\n",
              " 'WILL',\n",
              " 'be',\n",
              " 'a',\n",
              " 'challenge',\n",
              " 'to',\n",
              " 'teach',\n",
              " 'but',\n",
              " 'it',\n",
              " 'might',\n",
              " 'just',\n",
              " 'save',\n",
              " 'a',\n",
              " 'few',\n",
              " 'lives',\n",
              " '!',\n",
              " ':',\n",
              " ')',\n",
              " ':',\n",
              " '-',\n",
              " ')',\n",
              " ';',\n",
              " ')',\n",
              " '=D']"
            ]
          },
          "metadata": {},
          "execution_count": 75
        }
      ]
    },
    {
      "cell_type": "markdown",
      "metadata": {
        "id": "1wphFknQTfiQ"
      },
      "source": [
        "**Frequência das palavras**\n",
        "\n",
        "O RegexpTokenizer divide uma string em substrings usando uma expressão regular. O  FreqDist fornece a frequência das palavras em um texto."
      ]
    },
    {
      "cell_type": "code",
      "metadata": {
        "colab": {
          "base_uri": "https://localhost:8080/",
          "height": 0
        },
        "id": "0iq4aWmltEbC",
        "outputId": "677677ea-9b73-4723-89e8-7d359b7d1c77"
      },
      "source": [
        "# Frequência dos tokens\n",
        "\n",
        "from nltk.tokenize import RegexpTokenizer\n",
        "tokenizer = RegexpTokenizer(r'\\w+')\n",
        "tokens = tokenizer.tokenize(texto)\n",
        "tokens"
      ],
      "execution_count": 76,
      "outputs": [
        {
          "output_type": "execute_result",
          "data": {
            "text/plain": [
              "['There',\n",
              " 's',\n",
              " 'a',\n",
              " 'digital',\n",
              " 'literacy',\n",
              " 'movement',\n",
              " 'happening',\n",
              " 'right',\n",
              " 'now',\n",
              " 'amp',\n",
              " 'we',\n",
              " 're',\n",
              " 'all',\n",
              " 'students',\n",
              " 'Support',\n",
              " 'the',\n",
              " 'vulnerable',\n",
              " 'in',\n",
              " 'using',\n",
              " 'Pharmacy',\n",
              " '2u',\n",
              " 'online',\n",
              " 'shopping',\n",
              " 'video',\n",
              " 'calls',\n",
              " 'iPlayer',\n",
              " 'amp',\n",
              " 'other',\n",
              " 'online',\n",
              " 'tools',\n",
              " 'It',\n",
              " 'WILL',\n",
              " 'be',\n",
              " 'a',\n",
              " 'challenge',\n",
              " 'to',\n",
              " 'teach',\n",
              " 'but',\n",
              " 'it',\n",
              " 'might',\n",
              " 'just',\n",
              " 'save',\n",
              " 'a',\n",
              " 'few',\n",
              " 'lives',\n",
              " 'D']"
            ]
          },
          "metadata": {},
          "execution_count": 76
        }
      ]
    },
    {
      "cell_type": "code",
      "metadata": {
        "colab": {
          "base_uri": "https://localhost:8080/",
          "height": 0
        },
        "id": "mApPHz9xv6p9",
        "outputId": "84c35e22-b03e-4bad-c329-1df5eb1a5c4a"
      },
      "source": [
        "tokenizer = RegexpTokenizer(r'\\w+')\n",
        "frequencia = nltk.FreqDist(tokens)\n",
        "frequencia.most_common()"
      ],
      "execution_count": 119,
      "outputs": [
        {
          "output_type": "execute_result",
          "data": {
            "text/plain": [
              "[('a', 3),\n",
              " ('amp', 2),\n",
              " ('online', 2),\n",
              " ('There', 1),\n",
              " ('s', 1),\n",
              " ('digital', 1),\n",
              " ('literacy', 1),\n",
              " ('movement', 1),\n",
              " ('happening', 1),\n",
              " ('right', 1),\n",
              " ('now', 1),\n",
              " ('we', 1),\n",
              " ('re', 1),\n",
              " ('all', 1),\n",
              " ('students', 1),\n",
              " ('Support', 1),\n",
              " ('the', 1),\n",
              " ('vulnerable', 1),\n",
              " ('in', 1),\n",
              " ('using', 1),\n",
              " ('Pharmacy', 1),\n",
              " ('2u', 1),\n",
              " ('shopping', 1),\n",
              " ('video', 1),\n",
              " ('calls', 1),\n",
              " ('iPlayer', 1),\n",
              " ('other', 1),\n",
              " ('tools', 1),\n",
              " ('It', 1),\n",
              " ('WILL', 1),\n",
              " ('be', 1),\n",
              " ('challenge', 1),\n",
              " ('to', 1),\n",
              " ('teach', 1),\n",
              " ('but', 1),\n",
              " ('it', 1),\n",
              " ('might', 1),\n",
              " ('just', 1),\n",
              " ('save', 1),\n",
              " ('few', 1),\n",
              " ('lives', 1),\n",
              " ('D', 1)]"
            ]
          },
          "metadata": {},
          "execution_count": 119
        }
      ]
    },
    {
      "cell_type": "code",
      "metadata": {
        "id": "zLpuymLi3XFJ",
        "colab": {
          "base_uri": "https://localhost:8080/",
          "height": 0
        },
        "outputId": "16bc21fd-02a6-4a31-e84c-84cd1387a638"
      },
      "source": [
        "from nltk.tokenize import RegexpTokenizer\n",
        "\n",
        "tokenizer = RegexpTokenizer(r'\\w+')\n",
        "tokens = tokenizer.tokenize(texto)\n",
        "\n",
        "frequencia = nltk.FreqDist(tokens)\n",
        "frequencia.most_common()"
      ],
      "execution_count": 80,
      "outputs": [
        {
          "output_type": "execute_result",
          "data": {
            "text/plain": [
              "[('a', 3),\n",
              " ('amp', 2),\n",
              " ('online', 2),\n",
              " ('There', 1),\n",
              " ('s', 1),\n",
              " ('digital', 1),\n",
              " ('literacy', 1),\n",
              " ('movement', 1),\n",
              " ('happening', 1),\n",
              " ('right', 1),\n",
              " ('now', 1),\n",
              " ('we', 1),\n",
              " ('re', 1),\n",
              " ('all', 1),\n",
              " ('students', 1),\n",
              " ('Support', 1),\n",
              " ('the', 1),\n",
              " ('vulnerable', 1),\n",
              " ('in', 1),\n",
              " ('using', 1),\n",
              " ('Pharmacy', 1),\n",
              " ('2u', 1),\n",
              " ('shopping', 1),\n",
              " ('video', 1),\n",
              " ('calls', 1),\n",
              " ('iPlayer', 1),\n",
              " ('other', 1),\n",
              " ('tools', 1),\n",
              " ('It', 1),\n",
              " ('WILL', 1),\n",
              " ('be', 1),\n",
              " ('challenge', 1),\n",
              " ('to', 1),\n",
              " ('teach', 1),\n",
              " ('but', 1),\n",
              " ('it', 1),\n",
              " ('might', 1),\n",
              " ('just', 1),\n",
              " ('save', 1),\n",
              " ('few', 1),\n",
              " ('lives', 1),\n",
              " ('D', 1)]"
            ]
          },
          "metadata": {},
          "execution_count": 80
        }
      ]
    },
    {
      "cell_type": "code",
      "metadata": {
        "id": "5C-DlBIWQ5Qg"
      },
      "source": [
        "from nltk.tokenize import TweetTokenizer"
      ],
      "execution_count": 81,
      "outputs": []
    },
    {
      "cell_type": "code",
      "metadata": {
        "id": "5YqPai0fRAy-"
      },
      "source": [
        "tweet_tokenizer = TweetTokenizer()"
      ],
      "execution_count": 82,
      "outputs": []
    },
    {
      "cell_type": "code",
      "metadata": {
        "colab": {
          "base_uri": "https://localhost:8080/",
          "height": 0
        },
        "id": "8NSlE_c-RC_u",
        "outputId": "bbe0e802-8dc9-4e5c-e833-954a17e98701"
      },
      "source": [
        "tweet_tokenizer.tokenize(texto)"
      ],
      "execution_count": 83,
      "outputs": [
        {
          "output_type": "execute_result",
          "data": {
            "text/plain": [
              "['There',\n",
              " 's',\n",
              " 'a',\n",
              " 'digital',\n",
              " 'literacy',\n",
              " 'movement',\n",
              " 'happening',\n",
              " 'right',\n",
              " 'now',\n",
              " 'amp',\n",
              " 'we',\n",
              " 're',\n",
              " 'all',\n",
              " 'students',\n",
              " 'Support',\n",
              " 'the',\n",
              " 'vulnerable',\n",
              " 'in',\n",
              " 'using',\n",
              " 'Pharmacy',\n",
              " '2u',\n",
              " 'online',\n",
              " 'shopping',\n",
              " 'video',\n",
              " 'calls',\n",
              " 'iPlayer',\n",
              " 'amp',\n",
              " 'other',\n",
              " 'online',\n",
              " 'tools',\n",
              " 'It',\n",
              " 'WILL',\n",
              " 'be',\n",
              " 'a',\n",
              " 'challenge',\n",
              " 'to',\n",
              " 'teach',\n",
              " 'but',\n",
              " 'it',\n",
              " 'might',\n",
              " 'just',\n",
              " 'save',\n",
              " 'a',\n",
              " 'few',\n",
              " 'lives',\n",
              " '!',\n",
              " ':)',\n",
              " ':-)',\n",
              " ';)',\n",
              " '=D']"
            ]
          },
          "metadata": {},
          "execution_count": 83
        }
      ]
    },
    {
      "cell_type": "code",
      "metadata": {
        "colab": {
          "base_uri": "https://localhost:8080/",
          "height": 0
        },
        "id": "Ci5mrEAFZtAs",
        "outputId": "13e511e9-d867-4d03-a500-dc9736bd81f4"
      },
      "source": [
        "from nltk.probability import FreqDist\n",
        "from nltk.tokenize import word_tokenize\n",
        "nltk.download('punkt')\n",
        "\n",
        "tokens = word_tokenize(texto)\n",
        "fd = FreqDist(tokens)\n",
        "fd.most_common(20)"
      ],
      "execution_count": 150,
      "outputs": [
        {
          "output_type": "stream",
          "name": "stdout",
          "text": [
            "[nltk_data] Downloading package punkt to /root/nltk_data...\n",
            "[nltk_data]   Package punkt is already up-to-date!\n"
          ]
        },
        {
          "output_type": "execute_result",
          "data": {
            "text/plain": [
              "[('a', 3),\n",
              " (')', 3),\n",
              " ('amp', 2),\n",
              " ('online', 2),\n",
              " (':', 2),\n",
              " ('There', 1),\n",
              " ('s', 1),\n",
              " ('digital', 1),\n",
              " ('literacy', 1),\n",
              " ('movement', 1),\n",
              " ('happening', 1),\n",
              " ('right', 1),\n",
              " ('now', 1),\n",
              " ('we', 1),\n",
              " ('re', 1),\n",
              " ('all', 1),\n",
              " ('students', 1),\n",
              " ('Support', 1),\n",
              " ('the', 1),\n",
              " ('vulnerable', 1)]"
            ]
          },
          "metadata": {},
          "execution_count": 150
        }
      ]
    },
    {
      "cell_type": "code",
      "metadata": {
        "colab": {
          "base_uri": "https://localhost:8080/",
          "height": 555
        },
        "id": "PsZEyv0LZSYu",
        "outputId": "b95e4b76-bd80-40c7-a9f6-49b33471894f"
      },
      "source": [
        "import matplotlib.pyplot as plt\n",
        "tokens_limpo = word_tokenize(texto)\n",
        "frequencia = FreqDist(tokens_limpo)\n",
        "plt.figure(figsize = (13, 8))\n",
        "frequencia.plot(30, title = \"Frequência de Palavras\")"
      ],
      "execution_count": 151,
      "outputs": [
        {
          "output_type": "display_data",
          "data": {
            "image/png": "[encoded data removed]",
            "text/plain": [
              "<Figure size 936x576 with 1 Axes>"
            ]
          },
          "metadata": {
            "needs_background": "light"
          }
        }
      ]
    },
    {
      "cell_type": "code",
      "metadata": {
        "colab": {
          "base_uri": "https://localhost:8080/",
          "height": 0
        },
        "id": "F6Xdr7QbaBBZ",
        "outputId": "4d9b858e-96a3-460d-84be-74258137c52e"
      },
      "source": [
        "# Frequência de vezes que a palavra covid aparece no texto\n",
        "frequencia['covid']"
      ],
      "execution_count": 152,
      "outputs": [
        {
          "output_type": "execute_result",
          "data": {
            "text/plain": [
              "0"
            ]
          },
          "metadata": {},
          "execution_count": 152
        }
      ]
    },
    {
      "cell_type": "markdown",
      "metadata": {
        "id": "8_FFiuumh2qI"
      },
      "source": [
        "**Etiquetadores**\n",
        "\n",
        "É o processo de classificar palavras em suas classes gramaticais e rotulá-las de acordo é conhecido como marcação de classe gramatical , marcação POS ou simplesmente marcação. Etiquetador padrão treinado: o nltk.pos_tag(). Os etiquetadores retornam uma tupla (‘palavra’, ‘classe gramatical’)."
      ]
    },
    {
      "cell_type": "code",
      "metadata": {
        "colab": {
          "base_uri": "https://localhost:8080/",
          "height": 0
        },
        "id": "ll4BxaAwh60g",
        "outputId": "42cc6430-531c-49b6-964c-44a533091be4"
      },
      "source": [
        "import nltk\n",
        "nltk.download('averaged_perceptron_tagger')\n",
        "from nltk import pos_tag, word_tokenize\n",
        "pos_tag(word_tokenize(\"For those who aren't struggling, please consider donating to a food bank or a nonprofit.\"))"
      ],
      "execution_count": 180,
      "outputs": [
        {
          "output_type": "stream",
          "name": "stdout",
          "text": [
            "[nltk_data] Downloading package averaged_perceptron_tagger to\n",
            "[nltk_data]     /root/nltk_data...\n",
            "[nltk_data]   Unzipping taggers/averaged_perceptron_tagger.zip.\n"
          ]
        },
        {
          "output_type": "execute_result",
          "data": {
            "text/plain": [
              "[('For', 'IN'),\n",
              " ('those', 'DT'),\n",
              " ('who', 'WP'),\n",
              " ('are', 'VBP'),\n",
              " (\"n't\", 'RB'),\n",
              " ('struggling', 'VBG'),\n",
              " (',', ','),\n",
              " ('please', 'VB'),\n",
              " ('consider', 'VB'),\n",
              " ('donating', 'VBG'),\n",
              " ('to', 'TO'),\n",
              " ('a', 'DT'),\n",
              " ('food', 'NN'),\n",
              " ('bank', 'NN'),\n",
              " ('or', 'CC'),\n",
              " ('a', 'DT'),\n",
              " ('nonprofit', 'JJ'),\n",
              " ('.', '.')]"
            ]
          },
          "metadata": {},
          "execution_count": 180
        }
      ]
    },
    {
      "cell_type": "markdown",
      "metadata": {
        "id": "JifGGuHkiP85"
      },
      "source": [
        "`CC= conjunção coordenadora, RB= advérbio, JJ= adjetivo, VBG = tradução, significado e definição, NN= substantivo, IN= preposição, VB= verbo`"
      ]
    },
    {
      "cell_type": "code",
      "metadata": {
        "colab": {
          "base_uri": "https://localhost:8080/",
          "height": 35
        },
        "id": "NDwVruxviXva",
        "outputId": "51825ff8-31ef-4ce7-c2c2-d2ba66e4fb1a"
      },
      "source": [
        "# Um token marcado é representado usando uma tupla que consiste no token e na tag\n",
        "\n",
        "tagged_token = nltk.tag.str2tuple ('food / NN')\n",
        "tagged_token [0]"
      ],
      "execution_count": 181,
      "outputs": [
        {
          "output_type": "execute_result",
          "data": {
            "application/vnd.google.colaboratory.intrinsic+json": {
              "type": "string"
            },
            "text/plain": [
              "'food '"
            ]
          },
          "metadata": {},
          "execution_count": 181
        }
      ]
    },
    {
      "cell_type": "code",
      "metadata": {
        "colab": {
          "base_uri": "https://localhost:8080/",
          "height": 35
        },
        "id": "LqiSubVsig8F",
        "outputId": "82b86e95-710d-43de-b2f1-1d3316de52fa"
      },
      "source": [
        "tagged_token [1]"
      ],
      "execution_count": 182,
      "outputs": [
        {
          "output_type": "execute_result",
          "data": {
            "application/vnd.google.colaboratory.intrinsic+json": {
              "type": "string"
            },
            "text/plain": [
              "' NN'"
            ]
          },
          "metadata": {},
          "execution_count": 182
        }
      ]
    },
    {
      "cell_type": "code",
      "metadata": {
        "colab": {
          "base_uri": "https://localhost:8080/",
          "height": 0
        },
        "id": "Y1HGGc0zii6M",
        "outputId": "be25cf16-7236-45aa-f903-83e22a2db943"
      },
      "source": [
        "# Manipulação das tuplas: Chunking\n",
        "\n",
        "texto = [('For', 'IN'), ('those', 'DT'), ('who', 'WP'), ('are', 'VBP'), (\"n't\", 'RB'), ('struggling', 'VBG'), (',', ','), ('please', 'VB'), ('consider', 'VB'), ('donating', 'VBG'), ('to', 'TO'), ('a', 'DT'), ('food', 'NN'),\n",
        " ('bank', 'NN'), ('or', 'CC'), ('a', 'DT'), ('nonprofit', 'JJ'),('.', '.')]\n",
        "\n",
        "gramatica = \"NP: {<DT>? <JJ> * <NN>}\" \n",
        "\n",
        "cp = nltk.RegexpParser (gramatica)\n",
        "resultado = cp.parse (texto)\n",
        "print(resultado)"
      ],
      "execution_count": 183,
      "outputs": [
        {
          "output_type": "stream",
          "name": "stdout",
          "text": [
            "(S\n",
            "  For/IN\n",
            "  those/DT\n",
            "  who/WP\n",
            "  are/VBP\n",
            "  n't/RB\n",
            "  struggling/VBG\n",
            "  ,/,\n",
            "  please/VB\n",
            "  consider/VB\n",
            "  donating/VBG\n",
            "  to/TO\n",
            "  (NP a/DT food/NN)\n",
            "  (NP bank/NN)\n",
            "  or/CC\n",
            "  a/DT\n",
            "  nonprofit/JJ\n",
            "  ./.)\n"
          ]
        }
      ]
    },
    {
      "cell_type": "markdown",
      "metadata": {
        "id": "vr_-59IuRj93"
      },
      "source": [
        "# **4. Criação do modelo** \n",
        "\n",
        "Detecção de emoção em frases com o algoritmo Naive Bayes"
      ]
    },
    {
      "cell_type": "code",
      "metadata": {
        "id": "U9TblqnjRHnG"
      },
      "source": [
        "vectorizer = CountVectorizer(analyzer=\"word\", tokenizer=tweet_tokenizer.tokenize)\n",
        "\n",
        "# vectorizer = CountVectorizer(analyzer=\"word\", tokenizer=tweet_tokenizer.tokenize)"
      ],
      "execution_count": 84,
      "outputs": []
    },
    {
      "cell_type": "markdown",
      "metadata": {
        "id": "spLaM8oCacRo"
      },
      "source": [
        "**Aplica o vetorizador nos dados de texto**"
      ]
    },
    {
      "cell_type": "code",
      "metadata": {
        "colab": {
          "base_uri": "https://localhost:8080/",
          "height": 0
        },
        "id": "KOI2VYckSCp4",
        "outputId": "511c4743-d792-4eb4-fb9b-d49d7de62e32"
      },
      "source": [
        "freq_tweets = vectorizer.fit_transform(textos)\n",
        "type(freq_tweets)"
      ],
      "execution_count": 154,
      "outputs": [
        {
          "output_type": "execute_result",
          "data": {
            "text/plain": [
              "scipy.sparse.csr.csr_matrix"
            ]
          },
          "metadata": {},
          "execution_count": 154
        }
      ]
    },
    {
      "cell_type": "markdown",
      "metadata": {
        "id": "ieyUrCU0aiQ5"
      },
      "source": [
        "**Formato (Linhas, Colunas) da matriz**"
      ]
    },
    {
      "cell_type": "code",
      "metadata": {
        "colab": {
          "base_uri": "https://localhost:8080/",
          "height": 0
        },
        "id": "NW2DKfSSaWW_",
        "outputId": "84dd7b9b-ab24-415b-89a8-05bb272c1c5b"
      },
      "source": [
        "freq_tweets.shape"
      ],
      "execution_count": 156,
      "outputs": [
        {
          "output_type": "execute_result",
          "data": {
            "text/plain": [
              "(562, 4060)"
            ]
          },
          "metadata": {},
          "execution_count": 156
        }
      ]
    },
    {
      "cell_type": "markdown",
      "metadata": {
        "id": "E3afxrTjarO4"
      },
      "source": [
        "**Treino do modelo de Machine Learning**\n",
        "\n",
        "O algoritmo de classificação Naive Bayes é um classificador probabilístico. "
      ]
    },
    {
      "cell_type": "code",
      "metadata": {
        "colab": {
          "base_uri": "https://localhost:8080/",
          "height": 0
        },
        "id": "YjwqSUrdRquV",
        "outputId": "46c65a19-b6be-4edc-e954-30cf75c80944"
      },
      "source": [
        "modelo = MultinomialNB()\n",
        "modelo.fit(freq_tweets, classes)"
      ],
      "execution_count": 155,
      "outputs": [
        {
          "output_type": "execute_result",
          "data": {
            "text/plain": [
              "MultinomialNB(alpha=1.0, class_prior=None, fit_prior=True)"
            ]
          },
          "metadata": {},
          "execution_count": 155
        }
      ]
    },
    {
      "cell_type": "markdown",
      "metadata": {
        "id": "OKwwljMObtXz"
      },
      "source": [
        "**Testando o modelo com algumas instâncias simples**"
      ]
    },
    {
      "cell_type": "code",
      "metadata": {
        "id": "8cDljm-9am4R"
      },
      "source": [
        "# Lista de tweets encontrado na amostra\n",
        "testes = ['Talk to your neighbours family to exchange phone numbers create contact list with phone numbers of neighbours schools employer',\n",
        "          'Me: I dont need to stock up on food, Ill just have Amazon deliver whatever I need',\n",
        "          'All month there hasnt been crowding in the supermarkets or restaurants, however reducing all the hours and closing the malls means everyone is now using the same entrance and dependent on a single supermarket.!!!',\n",
        "          'Me, ready to go at supermarket during the #COVID19 outbreak.']"
      ],
      "execution_count": 157,
      "outputs": []
    },
    {
      "cell_type": "code",
      "metadata": {
        "id": "r124WSCwdI1V"
      },
      "source": [
        "# Transforma os dados de teste em vetores de palavras:\n",
        "freq_testes = vectorizer.transform(testes)"
      ],
      "execution_count": 158,
      "outputs": []
    },
    {
      "cell_type": "code",
      "metadata": {
        "colab": {
          "base_uri": "https://localhost:8080/",
          "height": 0
        },
        "id": "zJUljOG3dOdo",
        "outputId": "d7ed549f-6914-4b64-925d-d01fba9425f7"
      },
      "source": [
        "# Classificação com o modelo treinado\n",
        "for t, c in zip (testes,modelo.predict(freq_testes)):\n",
        "  print (t +\", \"+ c) "
      ],
      "execution_count": 159,
      "outputs": [
        {
          "output_type": "stream",
          "name": "stdout",
          "text": [
            "Talk to your neighbours family to exchange phone numbers create contact list with phone numbers of neighbours schools employer, Positive\n",
            "Me: I dont need to stock up on food, Ill just have Amazon deliver whatever I need, Positive\n",
            "All month there hasnt been crowding in the supermarkets or restaurants, however reducing all the hours and closing the malls means everyone is now using the same entrance and dependent on a single supermarket.!!!, Negative\n",
            "Me, ready to go at supermarket during the #COVID19 outbreak., Negative\n"
          ]
        }
      ]
    },
    {
      "cell_type": "code",
      "metadata": {
        "colab": {
          "base_uri": "https://localhost:8080/",
          "height": 0
        },
        "id": "7u7pMAHEdedB",
        "outputId": "c9389fed-1924-48b9-a012-727aa0973c64"
      },
      "source": [
        "# Probabilidades de cada classe:\n",
        "print (modelo.classes_)\n",
        "modelo.predict_proba(freq_testes).round(2)"
      ],
      "execution_count": 160,
      "outputs": [
        {
          "output_type": "stream",
          "name": "stdout",
          "text": [
            "['Extremely Negative' 'Extremely Positive' 'Negative' 'Neutral' 'Positive']\n"
          ]
        },
        {
          "output_type": "execute_result",
          "data": {
            "text/plain": [
              "array([[0.  , 0.  , 0.  , 0.  , 1.  ],\n",
              "       [0.  , 0.  , 0.04, 0.  , 0.96],\n",
              "       [0.  , 0.  , 0.95, 0.01, 0.04],\n",
              "       [0.  , 0.  , 0.52, 0.  , 0.48]])"
            ]
          },
          "metadata": {},
          "execution_count": 160
        }
      ]
    },
    {
      "cell_type": "markdown",
      "metadata": {
        "id": "6WhKPHsOeP2I"
      },
      "source": [
        "**Criando modelos com Pipelines**"
      ]
    },
    {
      "cell_type": "code",
      "metadata": {
        "id": "VlLZ-LiYdiyA"
      },
      "source": [
        "from sklearn.pipeline import Pipeline"
      ],
      "execution_count": 161,
      "outputs": []
    },
    {
      "cell_type": "code",
      "metadata": {
        "id": "edDHHYzBecki"
      },
      "source": [
        "pipeline_simples = Pipeline([\n",
        "  ('counts', CountVectorizer()),\n",
        "  ('classifier', MultinomialNB())\n",
        "])\n",
        "pipeline_simples.fit(tweets,classes)"
      ],
      "execution_count": null,
      "outputs": []
    },
    {
      "cell_type": "markdown",
      "metadata": {
        "id": "htaqoTuOkfCR"
      },
      "source": [
        "# **5. Conclusão**\n",
        "\n",
        "Considerando a análise de dados realizada à respeito dos tweets sobre o covid-19 (coronavírus). A análise de sentimentos foi executada na amostra de 562 tweets, coletadas a partir da base de dados principal. Os tweets ocorreram no período de 16/03/2020 a 23/03/2020. Assim foram realizados o pré-processamento, utilização do NLTK, que é um conjunto de bibliotecas utilizada para a realização do processamento de linguagem natural. Por fim, a criação do modelo detecção de emoção em frases com o algoritmo Naive Bayes, que  é um classificador probabilístico com uma boa precisão.\n",
        "\n",
        "Ainda foram utilizados o framework iFeel aplicativo da web, desenvolvido pela UFMG, para análise de sentimento e o Sentigem, que confirmaram assim como na análise realizada, a maioria para comentários categorizados como positivos."
      ]
    },
    {
      "cell_type": "markdown",
      "metadata": {
        "id": "K55NkJwckIAl"
      },
      "source": [
        "# **6. Referência bibliográfica**\n",
        "\n",
        "Brownlee, Jason. Deep Learning for Natural Language Processing. 2017.\n",
        "\n",
        "Santos, Roney Lira de Sales et al. (2021). Python para Processamento de Linguagem Natural. \n",
        "\n",
        "Hansen, Lauren. (2021). What Is Natural Language Processing?. Disponível em: https://www.cioinsight.com/news-trends/natural-language-processing/.\n",
        "\n",
        "NLTK Python Tutorial. Disponível em: https://data-flair.training/blogs/nltk-python-tutorial/.\n"
      ]
    }
  ]
}